{
  "nbformat": 4,
  "nbformat_minor": 0,
  "metadata": {
    "colab": {
      "provenance": [],
      "authorship_tag": "ABX9TyMcNYanOUcZ7Ys/kjeOcXiR",
      "include_colab_link": true
    },
    "kernelspec": {
      "name": "python3",
      "display_name": "Python 3"
    },
    "language_info": {
      "name": "python"
    }
  },
  "cells": [
    {
      "cell_type": "markdown",
      "metadata": {
        "id": "view-in-github",
        "colab_type": "text"
      },
      "source": [
        "<a href=\"https://colab.research.google.com/github/alu230706-sr/repaso-de-python/blob/main/VictorGH.ipynb\" target=\"_parent\"><img src=\"https://colab.research.google.com/assets/colab-badge.svg\" alt=\"Open In Colab\"/></a>"
      ]
    },
    {
      "cell_type": "markdown",
      "source": [
        "*Realizar un programa que te permita capturar tu nombre y lo imprima seguido de una bienvenida*"
      ],
      "metadata": {
        "id": "eg15T6DA_OzH"
      }
    },
    {
      "cell_type": "code",
      "source": [
        "print(\"hola mundo\")\n",
        "nombre=input(\"agrega tu nombre:\")\n",
        "print(\"bienvenido\",nombre)\n"
      ],
      "metadata": {
        "colab": {
          "base_uri": "https://localhost:8080/"
        },
        "id": "CSCVRUto_fc2",
        "outputId": "42424f88-6fc6-4b8d-dd23-9a8d5899c99e"
      },
      "execution_count": 14,
      "outputs": [
        {
          "output_type": "stream",
          "name": "stdout",
          "text": [
            "hola mundo\n",
            "agrega tu nombre:vic\n",
            "bienvenido vic\n"
          ]
        }
      ]
    },
    {
      "cell_type": "markdown",
      "source": [
        "realiza un programa que permita capturar 2 numeros enteros e imprima la suma,resta, multiplicacion y ña divicion entre ellos."
      ],
      "metadata": {
        "id": "0DGlWpi3CwYP"
      }
    },
    {
      "cell_type": "code",
      "source": [
        "num1=int(input(\"ingresa el primer numero: \"))\n",
        "num2=int(input(\"ingresa el segundo numero: \"))\n",
        "s=num1+num2\n",
        "r=num1-num2\n",
        "m=num1*num2\n",
        "d=num1/num2\n",
        "print(\"la suma de los dos numeros es de:\",s)\n",
        "print(\"la resta de los dos numeros es de:\",r)\n",
        "print(\"la multiplicaion de los dos numeros es de:\",m)\n",
        "print(\"la divicion de los dos numeros es de:\",d)"
      ],
      "metadata": {
        "colab": {
          "base_uri": "https://localhost:8080/"
        },
        "id": "VAaItmKcDIMP",
        "outputId": "2deed4df-b80d-45b0-bbda-8716ee09fa52"
      },
      "execution_count": 20,
      "outputs": [
        {
          "output_type": "stream",
          "name": "stdout",
          "text": [
            "ingresa el primer numero: 12\n",
            "ingresa el segundo numero: 12\n",
            "la suma de los dos numeros es de: 24\n",
            "la resta de los dos numeros es de: 0\n",
            "la multiplicaion de los dos numeros es de: 144\n",
            "la divicion de los dos numeros es de: 1.0\n"
          ]
        }
      ]
    },
    {
      "cell_type": "code",
      "execution_count": null,
      "metadata": {
        "id": "YC08ECZz-5tI"
      },
      "outputs": [],
      "source": []
    }
  ]
}