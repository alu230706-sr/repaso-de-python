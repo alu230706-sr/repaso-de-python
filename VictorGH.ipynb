{
  "nbformat": 4,
  "nbformat_minor": 0,
  "metadata": {
    "colab": {
      "provenance": [],
      "authorship_tag": "ABX9TyOtFpt03rMmbJjX8tP05VFY",
      "include_colab_link": true
    },
    "kernelspec": {
      "name": "python3",
      "display_name": "Python 3"
    },
    "language_info": {
      "name": "python"
    }
  },
  "cells": [
    {
      "cell_type": "markdown",
      "metadata": {
        "id": "view-in-github",
        "colab_type": "text"
      },
      "source": [
        "<a href=\"https://colab.research.google.com/github/alu230706-sr/repaso-de-python/blob/main/VictorGH.ipynb\" target=\"_parent\"><img src=\"https://colab.research.google.com/assets/colab-badge.svg\" alt=\"Open In Colab\"/></a>"
      ]
    },
    {
      "cell_type": "markdown",
      "source": [
        "*Realizar un programa que te permita capturar tu nombre y lo imprima seguido de una bienvenida*"
      ],
      "metadata": {
        "id": "eg15T6DA_OzH"
      }
    },
    {
      "cell_type": "code",
      "source": [
        "print(\"hola mundo\")\n",
        "nombre=input(\"agrega tu nombre:\")\n",
        "print(\"bienvenido\",nombre)\n"
      ],
      "metadata": {
        "colab": {
          "base_uri": "https://localhost:8080/"
        },
        "id": "CSCVRUto_fc2",
        "outputId": "42424f88-6fc6-4b8d-dd23-9a8d5899c99e"
      },
      "execution_count": null,
      "outputs": [
        {
          "output_type": "stream",
          "name": "stdout",
          "text": [
            "hola mundo\n",
            "agrega tu nombre:vic\n",
            "bienvenido vic\n"
          ]
        }
      ]
    },
    {
      "cell_type": "markdown",
      "source": [
        "realiza un programa que permita capturar 2 numeros enteros e imprima la suma,resta, multiplicacion y la divicion entre ellos."
      ],
      "metadata": {
        "id": "0DGlWpi3CwYP"
      }
    },
    {
      "cell_type": "code",
      "source": [
        "num1=int(input(\"ingresa el primer numero: \"))\n",
        "num2=int(input(\"ingresa el segundo numero: \"))\n",
        "s=num1+num2\n",
        "r=num1-num2\n",
        "m=num1*num2\n",
        "d=num1/num2\n",
        "print(\"la suma de los dos numeros es de:\",s)\n",
        "print(\"la resta de los dos numeros es de:\",r)\n",
        "print(\"la multiplicaion de los dos numeros es de:\",m)\n",
        "print(\"la divicion de los dos numeros es de:\",d)"
      ],
      "metadata": {
        "colab": {
          "base_uri": "https://localhost:8080/"
        },
        "id": "VAaItmKcDIMP",
        "outputId": "2deed4df-b80d-45b0-bbda-8716ee09fa52"
      },
      "execution_count": null,
      "outputs": [
        {
          "output_type": "stream",
          "name": "stdout",
          "text": [
            "ingresa el primer numero: 12\n",
            "ingresa el segundo numero: 12\n",
            "la suma de los dos numeros es de: 24\n",
            "la resta de los dos numeros es de: 0\n",
            "la multiplicaion de los dos numeros es de: 144\n",
            "la divicion de los dos numeros es de: 1.0\n"
          ]
        }
      ]
    },
    {
      "cell_type": "markdown",
      "source": [
        "Realizar un programa en python que te permita capturar 3 números enteros e imprima cual de los 3 es el mayor"
      ],
      "metadata": {
        "id": "cSGuJ89Z-8xn"
      }
    },
    {
      "cell_type": "code",
      "source": [
        "n1=int(input(\"ingresa el primer numero: \"))\n",
        "n2=int(input(\"ingresa el segundo numero: \"))\n",
        "n3=int(input(\"ingresa el tercer numero:\"))\n",
        "\n",
        "if n1>n2 and n1>n3:\n",
        "  print(\"el numero mayor es:\",n1)\n",
        "elif n3>n1 and n3>n2:\n",
        "  print (\"el numero mayor es:\",n2)\n",
        "else:\n",
        "  print(\"el numero mayor de los tres es:\",n3)\n"
      ],
      "metadata": {
        "colab": {
          "base_uri": "https://localhost:8080/"
        },
        "id": "SKHGxUQP--nO",
        "outputId": "ac1013d8-63c5-4e9f-c66a-b8da6a829be3"
      },
      "execution_count": 13,
      "outputs": [
        {
          "output_type": "stream",
          "name": "stdout",
          "text": [
            "ingresa el primer numero: 5\n",
            "ingresa el segundo numero: 3\n",
            "ingresa el tercer numero:1\n",
            "el numero mayor es: 5\n"
          ]
        }
      ]
    },
    {
      "cell_type": "markdown",
      "source": [
        " Realizar un programa en python mediante el cual calcules el total de caracteres que tiene un nombre capturado desde el teclado."
      ],
      "metadata": {
        "id": "ZvBprYfC_WMu"
      }
    },
    {
      "cell_type": "code",
      "source": [
        "nombre=(input(\"ingresa el primer numero: \"))\n",
        "cant=len(nombre)\n",
        "print(\"el numero de caracteres es de:\",cant)"
      ],
      "metadata": {
        "colab": {
          "base_uri": "https://localhost:8080/"
        },
        "id": "dabezmLy_Yvc",
        "outputId": "b7762731-62e9-402b-91d5-ac6ab1d80d9e"
      },
      "execution_count": 14,
      "outputs": [
        {
          "output_type": "stream",
          "name": "stdout",
          "text": [
            "ingresa el primer numero: vic\n",
            "el numero de caracteres es de:: 3\n"
          ]
        }
      ]
    },
    {
      "cell_type": "markdown",
      "source": [
        "Realizar un programa en python que permita imprimir los 7 días de la semana."
      ],
      "metadata": {
        "id": "snvVfFwA_bzC"
      }
    },
    {
      "cell_type": "code",
      "source": [
        "dias_sem=[\"lunes\",\"martes\",\"miercoles\",\"jueves\",\"viernes\"]\n",
        "for dia in dias_sem:\n",
        "  print(dia)"
      ],
      "metadata": {
        "colab": {
          "base_uri": "https://localhost:8080/"
        },
        "id": "jHMY4ojH_eva",
        "outputId": "a9a85356-8bdc-4272-bdd1-b5e5d38d56a6"
      },
      "execution_count": 15,
      "outputs": [
        {
          "output_type": "stream",
          "name": "stdout",
          "text": [
            "lunes\n",
            "martes\n",
            "miercoles\n",
            "jueves\n",
            "viernes\n"
          ]
        }
      ]
    }
  ]
}